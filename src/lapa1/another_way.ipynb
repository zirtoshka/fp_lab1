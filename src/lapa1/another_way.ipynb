{
 "cells": [
  {
   "cell_type": "code",
   "execution_count": 4,
   "metadata": {},
   "outputs": [],
   "source": [
    "from math import sqrt\n",
    "import time"
   ]
  },
  {
   "cell_type": "code",
   "execution_count": 5,
   "metadata": {},
   "outputs": [
    {
     "name": "stdout",
     "output_type": "stream",
     "text": [
      "142913828922\n"
     ]
    }
   ],
   "source": [
    "n = 2*10**6\n",
    "lst = [2]\n",
    "\n",
    "for i in range(3, n+1, 2):\n",
    "    if (i > 10):\n",
    "        if (i%2==0) or (i%10==5):\n",
    "            continue\n",
    "    fl=True\n",
    "    for j in lst:\n",
    "        if j > int((sqrt(i)) + 1):\n",
    "            break\n",
    "        if i % j == 0:\n",
    "            fl=False\n",
    "            break\n",
    "    if fl: lst.append(i)\n",
    "\n",
    "print(sum(lst))"
   ]
  },
  {
   "cell_type": "code",
   "execution_count": 6,
   "metadata": {},
   "outputs": [
    {
     "name": "stdout",
     "output_type": "stream",
     "text": [
      "31626\n"
     ]
    }
   ],
   "source": [
    "def sum_factors(n):  \n",
    "    result = []\n",
    "    for i in range(1, int(n**0.5) + 1):\n",
    "        if n % i == 0:\n",
    "            result.extend([i, n//i])\n",
    "    return sum(set(result)-set([n]))\n",
    "\n",
    "def amicable_pair(number):\n",
    "    result = []\n",
    "    for x in range(1,number+1):\n",
    "        y = sum_factors(x)\n",
    "        if sum_factors(y) == x and x != y:\n",
    "            result.append(y)\n",
    "            result.append(x)\n",
    "    return set(result)\n",
    "print(sum(amicable_pair(10000)))"
   ]
  }
 ],
 "metadata": {
  "kernelspec": {
   "display_name": "Python 3",
   "language": "python",
   "name": "python3"
  },
  "language_info": {
   "codemirror_mode": {
    "name": "ipython",
    "version": 3
   },
   "file_extension": ".py",
   "mimetype": "text/x-python",
   "name": "python",
   "nbconvert_exporter": "python",
   "pygments_lexer": "ipython3",
   "version": "3.10.5"
  }
 },
 "nbformat": 4,
 "nbformat_minor": 2
}
