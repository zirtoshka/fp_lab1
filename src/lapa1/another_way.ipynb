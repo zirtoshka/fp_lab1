{
 "cells": [
  {
   "cell_type": "code",
   "execution_count": 12,
   "metadata": {},
   "outputs": [],
   "source": [
    "from math import sqrt\n",
    "import time\n"
   ]
  },
  {
   "cell_type": "code",
   "execution_count": 13,
   "metadata": {},
   "outputs": [
    {
     "name": "stdout",
     "output_type": "stream",
     "text": [
      "[2, 3, 5, 7, 11, 13, 17, 19]\n"
     ]
    }
   ],
   "source": [
    "n = 2*10**1\n",
    "lst = [2]\n",
    "\n",
    "for i in range(3, n+1, 2):\n",
    "    if (i > 10):\n",
    "        if (i%2==0) or (i%10==5):\n",
    "            continue\n",
    "    fl=True\n",
    "    for j in lst:\n",
    "        if j > int((sqrt(i)) + 1):\n",
    "            break\n",
    "        if i % j == 0:\n",
    "            fl=False\n",
    "            break\n",
    "    if fl: lst.append(i)\n",
    "\n",
    "print(lst)"
   ]
  },
  {
   "cell_type": "code",
   "execution_count": 14,
   "metadata": {},
   "outputs": [
    {
     "name": "stdout",
     "output_type": "stream",
     "text": [
      "{(220, 284)}\n",
      "0.0019669532775878906\n"
     ]
    }
   ],
   "source": [
    "def sum_factors(n):  \n",
    "    result = []\n",
    "    for i in range(1, int(n**0.5) + 1):\n",
    "        if n % i == 0:\n",
    "            result.extend([i, n//i])\n",
    "    return sum(set(result)-set([n]))\n",
    "\n",
    "def amicable_pair(number):\n",
    "    result = []\n",
    "    for x in range(1,number+1):\n",
    "        y = sum_factors(x)\n",
    "        if sum_factors(y) == x and x != y:\n",
    "            # result.append(y)\n",
    "            # result.append(x)\n",
    "            result.append(tuple(sorted((x,y))))\n",
    "    return set(result)\n",
    "start = time.time()\n",
    "print (amicable_pair(300))\n",
    "# print(sum(amicable_pair(10000)))\n",
    "print (time.time()-start)"
   ]
  }
 ],
 "metadata": {
  "kernelspec": {
   "display_name": "Python 3",
   "language": "python",
   "name": "python3"
  },
  "language_info": {
   "codemirror_mode": {
    "name": "ipython",
    "version": 3
   },
   "file_extension": ".py",
   "mimetype": "text/x-python",
   "name": "python",
   "nbconvert_exporter": "python",
   "pygments_lexer": "ipython3",
   "version": "3.10.5"
  }
 },
 "nbformat": 4,
 "nbformat_minor": 2
}
